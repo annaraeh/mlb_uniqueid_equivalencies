{
 "cells": [
  {
   "cell_type": "markdown",
   "metadata": {},
   "source": [
    "# MLB Player Unique Identifier Equivalencies"
   ]
  },
  {
   "cell_type": "markdown",
   "metadata": {},
   "source": [
    "## Introduction"
   ]
  },
  {
   "cell_type": "markdown",
   "metadata": {},
   "source": [
    "There are many different resources that keep records of MLB data. When trying to combine and compare data from different resources, sometimes it can be difficult depending on the way that the data is formatted."
   ]
  },
  {
   "cell_type": "markdown",
   "metadata": {},
   "source": [
    "I ran into this problem while digging into some MLB data. In my analysis, I wanted to use two different sources that both have entries for every single MLB player. The problem was that there was no simple way to cross-compare all players between the two data sources."
   ]
  },
  {
   "cell_type": "markdown",
   "metadata": {},
   "source": [
    "### Data Sources"
   ]
  },
  {
   "cell_type": "markdown",
   "metadata": {},
   "source": [
    "The two data sources I wanted to use were [Baseball Reference](https://www.baseball-reference.com/) and [RetroSheet](https://www.retrosheet.org). "
   ]
  },
  {
   "cell_type": "markdown",
   "metadata": {},
   "source": [
    "Most players (about 90%) can be matched between the two sources based on their name alone. This leaves a substantial subset (10%) of players that require more careful inspection. "
   ]
  },
  {
   "cell_type": "markdown",
   "metadata": {},
   "source": [
    "Thankfully, both of these sources use \"unique identifiers\" to identify each individual player. "
   ]
  },
  {
   "cell_type": "markdown",
   "metadata": {},
   "source": [
    "#### Unique Identifiers"
   ]
  },
  {
   "cell_type": "markdown",
   "metadata": {},
   "source": [
    "Unique identitifers are a special kind of ID. In this context, a unique identifier is a string of letter and numbers guaranteed to match up to exactly one player. Two players would never share the same unique identifier (even if they share the same exactly name) and a single player would never be assigned two different unique identifiers (by the same source)."
   ]
  },
  {
   "cell_type": "markdown",
   "metadata": {},
   "source": [
    "Baseball Reference and RetroSheet use similar formatting for player unique identifiers, but they do not match exactly. For example, LaMonte Wade Jr.'s unique identifier in Baseball Reference is `wadela01` and in RetroSheet is `wadel001`."
   ]
  },
  {
   "cell_type": "markdown",
   "metadata": {},
   "source": [
    "If I had a table that matched up Baseball Reference's unique identifiers to RetroSheet's unique identifiers, I would be able to easily and smoothly compare player data across the two sourcees"
   ]
  },
  {
   "cell_type": "markdown",
   "metadata": {},
   "source": [
    "### Main Objective"
   ]
  },
  {
   "cell_type": "markdown",
   "metadata": {},
   "source": [
    "For the final result, I would like to have a table with a single row for every 2022 MLB player, and columns for the player's Name, Baseball Reference ID, and RetroSheet ID."
   ]
  },
  {
   "cell_type": "markdown",
   "metadata": {},
   "source": [
    "This Jupyter Python notebook demonstrates the process I used to create a table that matches player IDs from Baseball Reference with player IDs from RetroSheet. I include all the Python code I used, as well as an English description of my thought process.\n",
    "\n",
    "This notebook specifically focuses on all 2022 MLB players, but this process could be edited and expanded to encompass more seasons."
   ]
  },
  {
   "cell_type": "markdown",
   "metadata": {},
   "source": [
    "The formatting will look as below:"
   ]
  },
  {
   "cell_type": "code",
   "execution_count": 1,
   "metadata": {},
   "outputs": [],
   "source": [
    "import pandas as pd"
   ]
  },
  {
   "cell_type": "code",
   "execution_count": 2,
   "metadata": {
    "scrolled": true
   },
   "outputs": [
    {
     "data": {
      "text/html": [
       "<div>\n",
       "<style scoped>\n",
       "    .dataframe tbody tr th:only-of-type {\n",
       "        vertical-align: middle;\n",
       "    }\n",
       "\n",
       "    .dataframe tbody tr th {\n",
       "        vertical-align: top;\n",
       "    }\n",
       "\n",
       "    .dataframe thead th {\n",
       "        text-align: right;\n",
       "    }\n",
       "</style>\n",
       "<table border=\"1\" class=\"dataframe\">\n",
       "  <thead>\n",
       "    <tr style=\"text-align: right;\">\n",
       "      <th></th>\n",
       "      <th>Name</th>\n",
       "      <th>Baseball Reference ID</th>\n",
       "      <th>RetroSheet ID</th>\n",
       "    </tr>\n",
       "  </thead>\n",
       "  <tbody>\n",
       "    <tr>\n",
       "      <td>0</td>\n",
       "      <td>LaMonte Wade Jr.</td>\n",
       "      <td>wadela01</td>\n",
       "      <td>wadel001</td>\n",
       "    </tr>\n",
       "    <tr>\n",
       "      <td>1</td>\n",
       "      <td>First Last 1</td>\n",
       "      <td>lastfi01</td>\n",
       "      <td>lastf001</td>\n",
       "    </tr>\n",
       "    <tr>\n",
       "      <td>2</td>\n",
       "      <td>First Last 2</td>\n",
       "      <td>lastfi02</td>\n",
       "      <td>lastf002</td>\n",
       "    </tr>\n",
       "    <tr>\n",
       "      <td>3</td>\n",
       "      <td>...</td>\n",
       "      <td>...</td>\n",
       "      <td>...</td>\n",
       "    </tr>\n",
       "  </tbody>\n",
       "</table>\n",
       "</div>"
      ],
      "text/plain": [
       "               Name Baseball Reference ID RetroSheet ID\n",
       "0  LaMonte Wade Jr.              wadela01      wadel001\n",
       "1      First Last 1              lastfi01      lastf001\n",
       "2      First Last 2              lastfi02      lastf002\n",
       "3               ...                   ...           ..."
      ]
     },
     "execution_count": 2,
     "metadata": {},
     "output_type": "execute_result"
    }
   ],
   "source": [
    "exampleData = {'Name':['LaMonte Wade Jr.', 'First Last 1', 'First Last 2', '...'],\n",
    "               'Baseball Reference ID':['wadela01', 'lastfi01', 'lastfi02', '...'],\n",
    "               'RetroSheet ID':['wadel001', 'lastf001', 'lastf002', '...']}\n",
    "resultTable = pd.DataFrame(exampleData)\n",
    "\n",
    "resultTable"
   ]
  },
  {
   "cell_type": "markdown",
   "metadata": {},
   "source": [
    "## Data Collection"
   ]
  },
  {
   "cell_type": "markdown",
   "metadata": {},
   "source": [
    "I collected data from [Baseball Reference](https://www.baseball-reference.com/) and [RetroSheet](https://www.retrosheet.org). Since these are active websites, it's possible they may change or go offline in the future. This data collection process is up-to-date as of January 2023. "
   ]
  },
  {
   "cell_type": "markdown",
   "metadata": {},
   "source": [
    "### Baseball Reference"
   ]
  },
  {
   "cell_type": "markdown",
   "metadata": {},
   "source": [
    "From Baseball Reference, I used the these two tables:\n",
    "* [2022 Player Standard Pitching](https://www.baseball-reference.com/leagues/majors/2022-standard-pitching.shtml) table\n",
    "* [2022 Player Standard Batting](https://www.baseball-reference.com/leagues/majors/2022-standard-batting.shtml) table\n",
    "\n",
    "To save this data, I used the \"Share & Export\" menu ⇨ \"Get Table as CSV (for Excel)\"\n",
    "\n",
    "Then I copied the plain CSV text and pasted it into a simple text editor (I used TextEdit) and saved the files as `BaseballReference_StandardPitching_2022.csv` and `BaseballReference_StandardBatting_2022.csv` For both files, I omitted the last line of the CSV produced by Baseball Reference that describes Leauge Averages since it is completely irrelevant to this project.\n",
    "\n",
    "I put these two files in a folder called `Baseball Reference`, which I have in the same folder/directory as this Jupyter notebook.\n",
    "\n",
    "*This is important for running the code in this notebook, if the files are stored anywhere else then this will result in errors or require code edits.*"
   ]
  },
  {
   "cell_type": "code",
   "execution_count": 3,
   "metadata": {},
   "outputs": [],
   "source": [
    "bbref_filename_list = ['BaseballReference_StandardPitching_2022.csv',\n",
    "                       'BaseballReference_StandardBatting_2022.csv']\n",
    "\n",
    "bbref_folder = 'Baseball Reference'"
   ]
  },
  {
   "cell_type": "markdown",
   "metadata": {},
   "source": [
    "### RetroSheet"
   ]
  },
  {
   "cell_type": "markdown",
   "metadata": {},
   "source": [
    "From RetroSheet, I used the 30-file collection of roster files from the \"2022 Play-by-Play, Regular Season Event Files\" download.\n",
    "\n",
    "To access this download, I used the \"Data downloads\" menu ⇨ \"Play-by-play files\"\n",
    "\n",
    "Then, under \"Regular Season Event Files,\" I cliked the \"2022\" link and a file called `2022eve.zip` automatically downloaded. In my downloads folder, I double-clicked the file and it unzipped into a folder called `2022eve`. I put this folder into a folder called `RetroSheet`. \n",
    "\n",
    "*This is important for running the code in this notebook, if the files are stored anywhere else then this will result in errors or require code edits.*"
   ]
  },
  {
   "cell_type": "code",
   "execution_count": 4,
   "metadata": {},
   "outputs": [],
   "source": [
    "retrosheet_folder = 'RetroSheet/2022eve'"
   ]
  },
  {
   "cell_type": "markdown",
   "metadata": {},
   "source": [
    "## Data Exploration"
   ]
  },
  {
   "cell_type": "markdown",
   "metadata": {},
   "source": [
    "### Baseball Reference"
   ]
  },
  {
   "cell_type": "markdown",
   "metadata": {},
   "source": [
    "Both the Player Standard Pitching table and the Player Standard Batting table list every MLB player who pitched or batted (respectively) in 2022.\n",
    "\n",
    "Some players are represented by multiple rows. This occurrs when a player appeared for multiple teams in the season.\n",
    "\n",
    "Each player's name, age, team and leauge are listed. There are also many counting, rate, and advanced statistics listed. The last column, called `Name-additional`, is the player's Baseball Reference unique identifier. In this project, I'll be focusing on just the players' names and unique identifiers.\n",
    "\n",
    "Left handed pitchers and batters are denoted with an asterisk (`*`) after their name. Switch hitters are denoted with a pound sign (`#`).\n",
    "\n",
    "With respect to player names, I notice two important things. The first is that player names include character accents. The second is that Baseball Reference uses a unicode character called `No-Break Space` (` `) in between components of player names instead of the standard `Space` (` `) character."
   ]
  },
  {
   "cell_type": "markdown",
   "metadata": {},
   "source": [
    "### RetroSheet"
   ]
  },
  {
   "cell_type": "markdown",
   "metadata": {},
   "source": [
    "The 2022 \"Regular Season Event Files\" download contains 61 files:\n",
    "* 1 file called `TEAM2022`\n",
    "* 30 \"Event Files\" ending in `.EVN` or `.EVA`\n",
    "* 30 roster files ending in `.ROS`"
   ]
  },
  {
   "cell_type": "markdown",
   "metadata": {},
   "source": [
    "In this project, I need the 30 roster files. There is one roster file for each MLB team, listing all the MLB players for that team in 2022. Each line corresponds to one player, and includes the following infomation:\n",
    "* RetroSheet unique identifier\n",
    "* Last name\n",
    "* First name\n",
    "* Bating handedness\n",
    "* Throwing handedness\n",
    "* Team\n",
    "* Position\n",
    "\n",
    "Even though RetroSheet does not choose to use the `.csv` extension, these roster files are still essentially comma separated value files.\n",
    "\n",
    "In this project, I'll be focusing on just the players' names and unique identifiers.\n",
    "\n",
    "[RetroSheet offical documentation is available on their website.](https://www.retrosheet.org/eventfile.htm)"
   ]
  },
  {
   "cell_type": "markdown",
   "metadata": {},
   "source": [
    "## Data Preparation"
   ]
  },
  {
   "cell_type": "markdown",
   "metadata": {},
   "source": [
    "In order to process the player name and unique ID information, I need to do some pre-processing to prepare the data.\n",
    "\n",
    "The final result of this step will be two tables, one for each data source. Each table will have a row for each 2022 MLB player, with a column for their name and a column for their respective ID."
   ]
  },
  {
   "cell_type": "markdown",
   "metadata": {},
   "source": [
    "### Baseball Reference"
   ]
  },
  {
   "cell_type": "markdown",
   "metadata": {},
   "source": [
    "First, I'll import the two Baseball Reference files and combine them into one table. Then I'll do some processing to remove duplicate rows and adjust the formatting of the player names."
   ]
  },
  {
   "cell_type": "code",
   "execution_count": 5,
   "metadata": {},
   "outputs": [],
   "source": [
    "# Import both the Batting and Pitching tables from the .csv files\n",
    "# Using only the Name and Name-additional (unique ID) columns\n",
    "bbref_pitching_path = bbref_folder + '/' + bbref_filename_list[0]\n",
    "bbref_pitching_dataframe = pd.read_csv(bbref_pitching_path, usecols = ['Name', 'Name-additional'])\n",
    "\n",
    "bbref_batting_path = bbref_folder + '/' + bbref_filename_list[1]\n",
    "bbref_batting_dataframe = pd.read_csv(bbref_batting_path, usecols = ['Name', 'Name-additional'])"
   ]
  },
  {
   "cell_type": "code",
   "execution_count": 6,
   "metadata": {},
   "outputs": [],
   "source": [
    "# Combine/concatenate Batting and Pitching Dataframes into one Dataframe\n",
    "bbref_playerID_dataframe = pd.concat([bbref_batting_dataframe, bbref_pitching_dataframe])"
   ]
  },
  {
   "cell_type": "code",
   "execution_count": 7,
   "metadata": {},
   "outputs": [
    {
     "data": {
      "text/html": [
       "<div>\n",
       "<style scoped>\n",
       "    .dataframe tbody tr th:only-of-type {\n",
       "        vertical-align: middle;\n",
       "    }\n",
       "\n",
       "    .dataframe tbody tr th {\n",
       "        vertical-align: top;\n",
       "    }\n",
       "\n",
       "    .dataframe thead th {\n",
       "        text-align: right;\n",
       "    }\n",
       "</style>\n",
       "<table border=\"1\" class=\"dataframe\">\n",
       "  <thead>\n",
       "    <tr style=\"text-align: right;\">\n",
       "      <th></th>\n",
       "      <th>Name</th>\n",
       "      <th>Baseball Reference ID</th>\n",
       "    </tr>\n",
       "  </thead>\n",
       "  <tbody>\n",
       "    <tr>\n",
       "      <td>0</td>\n",
       "      <td>CJ Abrams*</td>\n",
       "      <td>abramcj01</td>\n",
       "    </tr>\n",
       "    <tr>\n",
       "      <td>1</td>\n",
       "      <td>CJ Abrams*</td>\n",
       "      <td>abramcj01</td>\n",
       "    </tr>\n",
       "    <tr>\n",
       "      <td>2</td>\n",
       "      <td>CJ Abrams*</td>\n",
       "      <td>abramcj01</td>\n",
       "    </tr>\n",
       "    <tr>\n",
       "      <td>3</td>\n",
       "      <td>Albert Abreu</td>\n",
       "      <td>abreual01</td>\n",
       "    </tr>\n",
       "    <tr>\n",
       "      <td>4</td>\n",
       "      <td>Albert Abreu</td>\n",
       "      <td>abreual01</td>\n",
       "    </tr>\n",
       "    <tr>\n",
       "      <td>...</td>\n",
       "      <td>...</td>\n",
       "      <td>...</td>\n",
       "    </tr>\n",
       "    <tr>\n",
       "      <td>1063</td>\n",
       "      <td>Rob Zastryzny*</td>\n",
       "      <td>zastrro01</td>\n",
       "    </tr>\n",
       "    <tr>\n",
       "      <td>1064</td>\n",
       "      <td>Rob Zastryzny*</td>\n",
       "      <td>zastrro01</td>\n",
       "    </tr>\n",
       "    <tr>\n",
       "      <td>1065</td>\n",
       "      <td>Angel Zerpa*</td>\n",
       "      <td>zerpaan01</td>\n",
       "    </tr>\n",
       "    <tr>\n",
       "      <td>1066</td>\n",
       "      <td>T.J. Zeuch</td>\n",
       "      <td>zeuchtj01</td>\n",
       "    </tr>\n",
       "    <tr>\n",
       "      <td>1067</td>\n",
       "      <td>Bruce Zimmermann*</td>\n",
       "      <td>zimmebr02</td>\n",
       "    </tr>\n",
       "  </tbody>\n",
       "</table>\n",
       "<p>2055 rows × 2 columns</p>\n",
       "</div>"
      ],
      "text/plain": [
       "                   Name Baseball Reference ID\n",
       "0            CJ Abrams*             abramcj01\n",
       "1            CJ Abrams*             abramcj01\n",
       "2            CJ Abrams*             abramcj01\n",
       "3          Albert Abreu             abreual01\n",
       "4          Albert Abreu             abreual01\n",
       "...                 ...                   ...\n",
       "1063     Rob Zastryzny*             zastrro01\n",
       "1064     Rob Zastryzny*             zastrro01\n",
       "1065       Angel Zerpa*             zerpaan01\n",
       "1066         T.J. Zeuch             zeuchtj01\n",
       "1067  Bruce Zimmermann*             zimmebr02\n",
       "\n",
       "[2055 rows x 2 columns]"
      ]
     },
     "execution_count": 7,
     "metadata": {},
     "output_type": "execute_result"
    }
   ],
   "source": [
    "# Rename 'Name-additional' column to 'Baseball Reference ID'\n",
    "bbref_playerID_dataframe = bbref_playerID_dataframe.rename(columns = {'Name-additional' : 'Baseball Reference ID'})\n",
    "bbref_playerID_dataframe"
   ]
  },
  {
   "cell_type": "markdown",
   "metadata": {},
   "source": [
    "Notice that there are many duplicated rows. This is because Baseball Reference includes separate rows for players that played on multiple teams in the season. This can be useful when investigating statistics or other infomation.\n",
    "\n",
    "Since I'm just focusing on player names and unique IDs, I can safely remove duplicate rows. I'll also remove the asterisk (` `) and pound sign (`#`) symbols, and change the `No-Break Space` (` `) to the `Space` (` `) character."
   ]
  },
  {
   "cell_type": "code",
   "execution_count": 8,
   "metadata": {},
   "outputs": [],
   "source": [
    "# Remove rows with duplicated IDs\n",
    "duplicatedID_status_list = bbref_playerID_dataframe.duplicated('Baseball Reference ID')\n",
    "bbref_playerID_dataframe = bbref_playerID_dataframe[ ~duplicatedID_status_list]"
   ]
  },
  {
   "cell_type": "code",
   "execution_count": 9,
   "metadata": {},
   "outputs": [],
   "source": [
    "# Remove * and #\n",
    "bbref_playerID_dataframe = bbref_playerID_dataframe.replace(to_replace = '\\*|#',\n",
    "                                                            value = '', regex = True)\n",
    "# Replace \"No-Break Space\" with \"Space\"\n",
    "nobreakspace_char = ' '\n",
    "space_char = ' '\n",
    "bbref_playerID_dataframe = bbref_playerID_dataframe.replace(to_replace= nobreakspace_char,\n",
    "                                                            value = space_char, regex = True)"
   ]
  },
  {
   "cell_type": "code",
   "execution_count": 10,
   "metadata": {},
   "outputs": [],
   "source": [
    "# Sort by name column and reset the Dataframe indices\n",
    "bbref_playerID_dataframe = bbref_playerID_dataframe.sort_values('Name').reset_index(drop = True)"
   ]
  },
  {
   "cell_type": "code",
   "execution_count": 11,
   "metadata": {},
   "outputs": [
    {
     "data": {
      "text/html": [
       "<div>\n",
       "<style scoped>\n",
       "    .dataframe tbody tr th:only-of-type {\n",
       "        vertical-align: middle;\n",
       "    }\n",
       "\n",
       "    .dataframe tbody tr th {\n",
       "        vertical-align: top;\n",
       "    }\n",
       "\n",
       "    .dataframe thead th {\n",
       "        text-align: right;\n",
       "    }\n",
       "</style>\n",
       "<table border=\"1\" class=\"dataframe\">\n",
       "  <thead>\n",
       "    <tr style=\"text-align: right;\">\n",
       "      <th></th>\n",
       "      <th>Name</th>\n",
       "      <th>Baseball Reference ID</th>\n",
       "    </tr>\n",
       "  </thead>\n",
       "  <tbody>\n",
       "    <tr>\n",
       "      <td>0</td>\n",
       "      <td>A.J. Alexy</td>\n",
       "      <td>alexyaj01</td>\n",
       "    </tr>\n",
       "    <tr>\n",
       "      <td>1</td>\n",
       "      <td>A.J. Ladwig</td>\n",
       "      <td>ladwiaj01</td>\n",
       "    </tr>\n",
       "    <tr>\n",
       "      <td>2</td>\n",
       "      <td>A.J. Minter</td>\n",
       "      <td>minteaj01</td>\n",
       "    </tr>\n",
       "    <tr>\n",
       "      <td>3</td>\n",
       "      <td>A.J. Puk</td>\n",
       "      <td>pukaj01</td>\n",
       "    </tr>\n",
       "    <tr>\n",
       "      <td>4</td>\n",
       "      <td>AJ Pollock</td>\n",
       "      <td>polloaj01</td>\n",
       "    </tr>\n",
       "    <tr>\n",
       "      <td>...</td>\n",
       "      <td>...</td>\n",
       "      <td>...</td>\n",
       "    </tr>\n",
       "    <tr>\n",
       "      <td>1490</td>\n",
       "      <td>Zack Littell</td>\n",
       "      <td>litteza01</td>\n",
       "    </tr>\n",
       "    <tr>\n",
       "      <td>1491</td>\n",
       "      <td>Zack Short</td>\n",
       "      <td>shortza01</td>\n",
       "    </tr>\n",
       "    <tr>\n",
       "      <td>1492</td>\n",
       "      <td>Zack Thompson</td>\n",
       "      <td>thompza02</td>\n",
       "    </tr>\n",
       "    <tr>\n",
       "      <td>1493</td>\n",
       "      <td>Zack Weiss</td>\n",
       "      <td>weissza01</td>\n",
       "    </tr>\n",
       "    <tr>\n",
       "      <td>1494</td>\n",
       "      <td>Zack Wheeler</td>\n",
       "      <td>wheelza01</td>\n",
       "    </tr>\n",
       "  </tbody>\n",
       "</table>\n",
       "<p>1495 rows × 2 columns</p>\n",
       "</div>"
      ],
      "text/plain": [
       "               Name Baseball Reference ID\n",
       "0        A.J. Alexy             alexyaj01\n",
       "1       A.J. Ladwig             ladwiaj01\n",
       "2       A.J. Minter             minteaj01\n",
       "3          A.J. Puk               pukaj01\n",
       "4        AJ Pollock             polloaj01\n",
       "...             ...                   ...\n",
       "1490   Zack Littell             litteza01\n",
       "1491     Zack Short             shortza01\n",
       "1492  Zack Thompson             thompza02\n",
       "1493     Zack Weiss             weissza01\n",
       "1494   Zack Wheeler             wheelza01\n",
       "\n",
       "[1495 rows x 2 columns]"
      ]
     },
     "execution_count": 11,
     "metadata": {},
     "output_type": "execute_result"
    }
   ],
   "source": [
    "bbref_playerID_dataframe"
   ]
  },
  {
   "cell_type": "markdown",
   "metadata": {},
   "source": [
    "### RetroSheet"
   ]
  },
  {
   "cell_type": "markdown",
   "metadata": {},
   "source": [
    "First, I'll get all the roster files from the RetroSheet Event Files folder and read all the lines/entries into a list. Then I'll make a table from this data, and isolate the player names and RetroSheet IDs."
   ]
  },
  {
   "cell_type": "code",
   "execution_count": 12,
   "metadata": {},
   "outputs": [],
   "source": [
    "import os"
   ]
  },
  {
   "cell_type": "code",
   "execution_count": 13,
   "metadata": {},
   "outputs": [],
   "source": [
    "# Detemine the current directory and combine with RetroSheet folder directory\n",
    "current_directory = os.getcwd()\n",
    "retrosheet_directory = '/' + retrosheet_folder\n",
    "\n",
    "retrosheet_path = current_directory + retrosheet_directory"
   ]
  },
  {
   "cell_type": "code",
   "execution_count": 14,
   "metadata": {},
   "outputs": [],
   "source": [
    "# Loop through all the files in the RetroSheet Directory and add them to a list\n",
    "roster_filename_list = []\n",
    "for filename in os.listdir(path = retrosheet_path):\n",
    "    \n",
    "    if filename.find('.') != -1:\n",
    "        if filename.split('.')[1] == 'ROS':\n",
    "            roster_filename_list.append(filename)"
   ]
  },
  {
   "cell_type": "code",
   "execution_count": 15,
   "metadata": {},
   "outputs": [],
   "source": [
    "# Loop through all the .ROS roster files and add each line to a list\n",
    "roster_entries_list = []\n",
    "for roster_filename in roster_filename_list:\n",
    "    \n",
    "    roster_path = retrosheet_folder + '/' + roster_filename\n",
    "    \n",
    "    with open(roster_path, 'r') as file:\n",
    "        roster_entries = file.readlines()\n",
    "        \n",
    "        for entry in roster_entries:\n",
    "            roster_entries_list.append(entry.rstrip())"
   ]
  },
  {
   "cell_type": "code",
   "execution_count": 16,
   "metadata": {},
   "outputs": [],
   "source": [
    "# Create a DataFrame from the list of roster entries\n",
    "retrosheet_playerID_dataframe = pd.DataFrame([entry.split(',') for entry in roster_entries_list],\n",
    "                                        columns = ['RetroSheet ID', 'Last', 'First',\n",
    "                                                   'Bats', 'Throws', 'Team', 'Position'])"
   ]
  },
  {
   "cell_type": "code",
   "execution_count": 17,
   "metadata": {},
   "outputs": [],
   "source": [
    "# Make a new column called \"Name\" by combing the first and last name columns\n",
    "retrosheet_playerID_dataframe['Name'] = retrosheet_playerID_dataframe['First'] + ' ' + retrosheet_playerID_dataframe['Last']\n",
    "\n",
    "# Drop the columns we don't care about for this project\n",
    "retrosheet_playerID_dataframe = retrosheet_playerID_dataframe.drop(columns = [\"Last\", \"First\", \"Bats\", \"Throws\",\n",
    "                                                                    \"Team\", \"Position\"])"
   ]
  },
  {
   "cell_type": "code",
   "execution_count": 19,
   "metadata": {},
   "outputs": [],
   "source": [
    "# Remove names with duplicated IDs\n",
    "duplicatedID_status_list = retrosheet_playerID_dataframe.duplicated('RetroSheet ID')\n",
    "retrosheet_playerID_dataframe = retrosheet_playerID_dataframe[ ~duplicatedID_status_list]"
   ]
  },
  {
   "cell_type": "code",
   "execution_count": 21,
   "metadata": {},
   "outputs": [],
   "source": [
    "# Sort by name and reset the Dataframe indices\n",
    "retrosheet_playerID_dataframe = retrosheet_playerID_dataframe.sort_values('Name').reset_index(drop = True)"
   ]
  },
  {
   "cell_type": "markdown",
   "metadata": {},
   "source": [
    "### Data Preparation Results"
   ]
  },
  {
   "cell_type": "code",
   "execution_count": 23,
   "metadata": {},
   "outputs": [
    {
     "data": {
      "text/html": [
       "<div>\n",
       "<style scoped>\n",
       "    .dataframe tbody tr th:only-of-type {\n",
       "        vertical-align: middle;\n",
       "    }\n",
       "\n",
       "    .dataframe tbody tr th {\n",
       "        vertical-align: top;\n",
       "    }\n",
       "\n",
       "    .dataframe thead th {\n",
       "        text-align: right;\n",
       "    }\n",
       "</style>\n",
       "<table border=\"1\" class=\"dataframe\">\n",
       "  <thead>\n",
       "    <tr style=\"text-align: right;\">\n",
       "      <th></th>\n",
       "      <th>Name</th>\n",
       "      <th>Baseball Reference ID</th>\n",
       "    </tr>\n",
       "  </thead>\n",
       "  <tbody>\n",
       "    <tr>\n",
       "      <td>0</td>\n",
       "      <td>A.J. Alexy</td>\n",
       "      <td>alexyaj01</td>\n",
       "    </tr>\n",
       "    <tr>\n",
       "      <td>1</td>\n",
       "      <td>A.J. Ladwig</td>\n",
       "      <td>ladwiaj01</td>\n",
       "    </tr>\n",
       "    <tr>\n",
       "      <td>2</td>\n",
       "      <td>A.J. Minter</td>\n",
       "      <td>minteaj01</td>\n",
       "    </tr>\n",
       "    <tr>\n",
       "      <td>3</td>\n",
       "      <td>A.J. Puk</td>\n",
       "      <td>pukaj01</td>\n",
       "    </tr>\n",
       "    <tr>\n",
       "      <td>4</td>\n",
       "      <td>AJ Pollock</td>\n",
       "      <td>polloaj01</td>\n",
       "    </tr>\n",
       "    <tr>\n",
       "      <td>...</td>\n",
       "      <td>...</td>\n",
       "      <td>...</td>\n",
       "    </tr>\n",
       "    <tr>\n",
       "      <td>1490</td>\n",
       "      <td>Zack Littell</td>\n",
       "      <td>litteza01</td>\n",
       "    </tr>\n",
       "    <tr>\n",
       "      <td>1491</td>\n",
       "      <td>Zack Short</td>\n",
       "      <td>shortza01</td>\n",
       "    </tr>\n",
       "    <tr>\n",
       "      <td>1492</td>\n",
       "      <td>Zack Thompson</td>\n",
       "      <td>thompza02</td>\n",
       "    </tr>\n",
       "    <tr>\n",
       "      <td>1493</td>\n",
       "      <td>Zack Weiss</td>\n",
       "      <td>weissza01</td>\n",
       "    </tr>\n",
       "    <tr>\n",
       "      <td>1494</td>\n",
       "      <td>Zack Wheeler</td>\n",
       "      <td>wheelza01</td>\n",
       "    </tr>\n",
       "  </tbody>\n",
       "</table>\n",
       "<p>1495 rows × 2 columns</p>\n",
       "</div>"
      ],
      "text/plain": [
       "               Name Baseball Reference ID\n",
       "0        A.J. Alexy             alexyaj01\n",
       "1       A.J. Ladwig             ladwiaj01\n",
       "2       A.J. Minter             minteaj01\n",
       "3          A.J. Puk               pukaj01\n",
       "4        AJ Pollock             polloaj01\n",
       "...             ...                   ...\n",
       "1490   Zack Littell             litteza01\n",
       "1491     Zack Short             shortza01\n",
       "1492  Zack Thompson             thompza02\n",
       "1493     Zack Weiss             weissza01\n",
       "1494   Zack Wheeler             wheelza01\n",
       "\n",
       "[1495 rows x 2 columns]"
      ]
     },
     "execution_count": 23,
     "metadata": {},
     "output_type": "execute_result"
    }
   ],
   "source": [
    "bbref_playerID_dataframe"
   ]
  },
  {
   "cell_type": "code",
   "execution_count": 24,
   "metadata": {},
   "outputs": [
    {
     "data": {
      "text/html": [
       "<div>\n",
       "<style scoped>\n",
       "    .dataframe tbody tr th:only-of-type {\n",
       "        vertical-align: middle;\n",
       "    }\n",
       "\n",
       "    .dataframe tbody tr th {\n",
       "        vertical-align: top;\n",
       "    }\n",
       "\n",
       "    .dataframe thead th {\n",
       "        text-align: right;\n",
       "    }\n",
       "</style>\n",
       "<table border=\"1\" class=\"dataframe\">\n",
       "  <thead>\n",
       "    <tr style=\"text-align: right;\">\n",
       "      <th></th>\n",
       "      <th>RetroSheet ID</th>\n",
       "      <th>Name</th>\n",
       "    </tr>\n",
       "  </thead>\n",
       "  <tbody>\n",
       "    <tr>\n",
       "      <td>0</td>\n",
       "      <td>alexa001</td>\n",
       "      <td>A. J. Alexy</td>\n",
       "    </tr>\n",
       "    <tr>\n",
       "      <td>1</td>\n",
       "      <td>ladwa001</td>\n",
       "      <td>A. J. Ladwig</td>\n",
       "    </tr>\n",
       "    <tr>\n",
       "      <td>2</td>\n",
       "      <td>minta001</td>\n",
       "      <td>A. J. Minter</td>\n",
       "    </tr>\n",
       "    <tr>\n",
       "      <td>3</td>\n",
       "      <td>puk-a001</td>\n",
       "      <td>A. J. Puk</td>\n",
       "    </tr>\n",
       "    <tr>\n",
       "      <td>4</td>\n",
       "      <td>polla001</td>\n",
       "      <td>AJ Pollock</td>\n",
       "    </tr>\n",
       "    <tr>\n",
       "      <td>...</td>\n",
       "      <td>...</td>\n",
       "      <td>...</td>\n",
       "    </tr>\n",
       "    <tr>\n",
       "      <td>1490</td>\n",
       "      <td>littz001</td>\n",
       "      <td>Zack Littell</td>\n",
       "    </tr>\n",
       "    <tr>\n",
       "      <td>1491</td>\n",
       "      <td>shorz001</td>\n",
       "      <td>Zack Short</td>\n",
       "    </tr>\n",
       "    <tr>\n",
       "      <td>1492</td>\n",
       "      <td>thomz002</td>\n",
       "      <td>Zack Thompson</td>\n",
       "    </tr>\n",
       "    <tr>\n",
       "      <td>1493</td>\n",
       "      <td>weisz001</td>\n",
       "      <td>Zack Weiss</td>\n",
       "    </tr>\n",
       "    <tr>\n",
       "      <td>1494</td>\n",
       "      <td>wheez001</td>\n",
       "      <td>Zack Wheeler</td>\n",
       "    </tr>\n",
       "  </tbody>\n",
       "</table>\n",
       "<p>1495 rows × 2 columns</p>\n",
       "</div>"
      ],
      "text/plain": [
       "     RetroSheet ID           Name\n",
       "0         alexa001    A. J. Alexy\n",
       "1         ladwa001   A. J. Ladwig\n",
       "2         minta001   A. J. Minter\n",
       "3         puk-a001      A. J. Puk\n",
       "4         polla001     AJ Pollock\n",
       "...            ...            ...\n",
       "1490      littz001   Zack Littell\n",
       "1491      shorz001     Zack Short\n",
       "1492      thomz002  Zack Thompson\n",
       "1493      weisz001     Zack Weiss\n",
       "1494      wheez001   Zack Wheeler\n",
       "\n",
       "[1495 rows x 2 columns]"
      ]
     },
     "execution_count": 24,
     "metadata": {},
     "output_type": "execute_result"
    }
   ],
   "source": [
    "retrosheet_playerID_dataframe"
   ]
  },
  {
   "cell_type": "markdown",
   "metadata": {},
   "source": [
    "## Determining ID Equivalencies\n",
    "---"
   ]
  },
  {
   "cell_type": "markdown",
   "metadata": {},
   "source": [
    "Now that we have our two tables, we can start the main process of creating our combined table!"
   ]
  },
  {
   "cell_type": "markdown",
   "metadata": {},
   "source": [
    "There are different ways to approach this process, but I'll choose to use a combination of automated and manual processing. Since I'm only looking at the 2022 MLB players, and only about 10% (< 200) of them fall into the manual processing category, this is managable.\n",
    "\n",
    "If this project were expanded to encompass larger sets of players, it may not be so managable to do manual editing with the approach I use here. In that situation, it could make sense to expand the scope of the coding work for automation to reduce or potentionally eliminate the manual editing portion. Given the non-standardized nature of human naming conventions, it's possible that some human attention will always be required."
   ]
  },
  {
   "cell_type": "markdown",
   "metadata": {},
   "source": [
    "I'll start by splitting up all the players into separate disjoint cases. Breaking down the data this way makes it much easier to work with.\n",
    "\n",
    "* Player shares a name with at least one other player (`Case 1`)\n",
    "* Player does not share a name with another player\n",
    "    * Player name is listed identically between the two sources (`Case 2`)\n",
    "    * Player name is listed differently between the two sources (`Case 3`)"
   ]
  },
  {
   "cell_type": "markdown",
   "metadata": {},
   "source": [
    "`Case 2` is the case into which 90% of MLB players fall. This is the easist case to handle and does not require any manual processing.\n",
    "\n",
    "`Case 1` and `Case 3` are the situations that require greater scrutiny. "
   ]
  },
  {
   "cell_type": "markdown",
   "metadata": {},
   "source": [
    "I will make three separate equivalency tables, one for each disjoint case. At the end, I will combine all three tables into one table to produce the final result."
   ]
  },
  {
   "cell_type": "markdown",
   "metadata": {},
   "source": [
    "### `Case 1`: Duplicate Names"
   ]
  },
  {
   "cell_type": "markdown",
   "metadata": {},
   "source": [
    "First, I need to address the duplicate names. Some players share the same exact name, dealing with these cases first to makes the rest of the process much smoother.\n",
    "\n",
    "To begin, I need to determine which names are duplicated. I'll do this separately for the two sources. Since Baseball Reference formats player names differently than RetroSheet, the results may be slightly different.\n",
    "\n",
    "I'll use code to create these two tables, and then export the tables to `.csv` files and complete the manual editing in a program like Excel/Numbers/Google Sheets/etc. I'll export that result to another `.csv` file that I'll import back into this notebook as the final result for this case.\n",
    "\n",
    "The last step is to remove this set of players from my working tables (`bbref_playerID_dataframe`) and (`retrosheet_playerID_dataframe`) so that only `Case 2` and `Case 3` players remain."
   ]
  },
  {
   "cell_type": "code",
   "execution_count": 31,
   "metadata": {},
   "outputs": [],
   "source": [
    "# Create a list of all the duplicated names in Baseball Reference\n",
    "duplicatename_status = bbref_playerID_dataframe.duplicated('Name')\n",
    "bbref_duplicatename_list = bbref_playerID_dataframe[duplicatename_status]['Name']\n",
    "\n",
    "# Create a list of all the duplicated names in RetroSheet\n",
    "duplicatename_status = retrosheet_playerID_dataframe.duplicated('Name')\n",
    "retrosheet_duplicatename_list = retrosheet_playerID_dataframe[duplicatename_status]['Name']"
   ]
  },
  {
   "cell_type": "code",
   "execution_count": 32,
   "metadata": {
    "scrolled": true
   },
   "outputs": [
    {
     "data": {
      "text/html": [
       "<div>\n",
       "<style scoped>\n",
       "    .dataframe tbody tr th:only-of-type {\n",
       "        vertical-align: middle;\n",
       "    }\n",
       "\n",
       "    .dataframe tbody tr th {\n",
       "        vertical-align: top;\n",
       "    }\n",
       "\n",
       "    .dataframe thead th {\n",
       "        text-align: right;\n",
       "    }\n",
       "</style>\n",
       "<table border=\"1\" class=\"dataframe\">\n",
       "  <thead>\n",
       "    <tr style=\"text-align: right;\">\n",
       "      <th></th>\n",
       "      <th>Name</th>\n",
       "      <th>Baseball Reference ID</th>\n",
       "    </tr>\n",
       "  </thead>\n",
       "  <tbody>\n",
       "    <tr>\n",
       "      <td>385</td>\n",
       "      <td>Diego Castillo</td>\n",
       "      <td>castidi02</td>\n",
       "    </tr>\n",
       "    <tr>\n",
       "      <td>386</td>\n",
       "      <td>Diego Castillo</td>\n",
       "      <td>castidi01</td>\n",
       "    </tr>\n",
       "    <tr>\n",
       "      <td>899</td>\n",
       "      <td>Luis Castillo</td>\n",
       "      <td>castilu03</td>\n",
       "    </tr>\n",
       "    <tr>\n",
       "      <td>900</td>\n",
       "      <td>Luis Castillo</td>\n",
       "      <td>castilu02</td>\n",
       "    </tr>\n",
       "    <tr>\n",
       "      <td>904</td>\n",
       "      <td>Luis García</td>\n",
       "      <td>garcilu04</td>\n",
       "    </tr>\n",
       "    <tr>\n",
       "      <td>905</td>\n",
       "      <td>Luis García</td>\n",
       "      <td>garcilu03</td>\n",
       "    </tr>\n",
       "    <tr>\n",
       "      <td>910</td>\n",
       "      <td>Luis Ortiz</td>\n",
       "      <td>ortizlu03</td>\n",
       "    </tr>\n",
       "    <tr>\n",
       "      <td>911</td>\n",
       "      <td>Luis Ortiz</td>\n",
       "      <td>ortizlu02</td>\n",
       "    </tr>\n",
       "    <tr>\n",
       "      <td>1430</td>\n",
       "      <td>Will Smith</td>\n",
       "      <td>smithwi05</td>\n",
       "    </tr>\n",
       "    <tr>\n",
       "      <td>1431</td>\n",
       "      <td>Will Smith</td>\n",
       "      <td>smithwi04</td>\n",
       "    </tr>\n",
       "  </tbody>\n",
       "</table>\n",
       "</div>"
      ],
      "text/plain": [
       "                Name Baseball Reference ID\n",
       "385   Diego Castillo             castidi02\n",
       "386   Diego Castillo             castidi01\n",
       "899    Luis Castillo             castilu03\n",
       "900    Luis Castillo             castilu02\n",
       "904      Luis García             garcilu04\n",
       "905      Luis García             garcilu03\n",
       "910       Luis Ortiz             ortizlu03\n",
       "911       Luis Ortiz             ortizlu02\n",
       "1430      Will Smith             smithwi05\n",
       "1431      Will Smith             smithwi04"
      ]
     },
     "execution_count": 32,
     "metadata": {},
     "output_type": "execute_result"
    }
   ],
   "source": [
    "# Create a DataFrame of the duplicated names in Baseball Reference\n",
    "duplicatename_status = bbref_playerID_dataframe['Name'].isin(bbref_duplicatename_list)\n",
    "bbref_duplicatename_dataframe = bbref_playerID_dataframe[duplicatename_status]\n",
    "\n",
    "bbref_duplicatename_dataframe"
   ]
  },
  {
   "cell_type": "code",
   "execution_count": 33,
   "metadata": {
    "scrolled": true
   },
   "outputs": [
    {
     "data": {
      "text/html": [
       "<div>\n",
       "<style scoped>\n",
       "    .dataframe tbody tr th:only-of-type {\n",
       "        vertical-align: middle;\n",
       "    }\n",
       "\n",
       "    .dataframe tbody tr th {\n",
       "        vertical-align: top;\n",
       "    }\n",
       "\n",
       "    .dataframe thead th {\n",
       "        text-align: right;\n",
       "    }\n",
       "</style>\n",
       "<table border=\"1\" class=\"dataframe\">\n",
       "  <thead>\n",
       "    <tr style=\"text-align: right;\">\n",
       "      <th></th>\n",
       "      <th>RetroSheet ID</th>\n",
       "      <th>Name</th>\n",
       "    </tr>\n",
       "  </thead>\n",
       "  <tbody>\n",
       "    <tr>\n",
       "      <td>385</td>\n",
       "      <td>castd004</td>\n",
       "      <td>Diego Castillo</td>\n",
       "    </tr>\n",
       "    <tr>\n",
       "      <td>386</td>\n",
       "      <td>castd002</td>\n",
       "      <td>Diego Castillo</td>\n",
       "    </tr>\n",
       "    <tr>\n",
       "      <td>899</td>\n",
       "      <td>castl004</td>\n",
       "      <td>Luis Castillo</td>\n",
       "    </tr>\n",
       "    <tr>\n",
       "      <td>900</td>\n",
       "      <td>castl003</td>\n",
       "      <td>Luis Castillo</td>\n",
       "    </tr>\n",
       "    <tr>\n",
       "      <td>903</td>\n",
       "      <td>garcl006</td>\n",
       "      <td>Luis Garcia</td>\n",
       "    </tr>\n",
       "    <tr>\n",
       "      <td>904</td>\n",
       "      <td>garcl007</td>\n",
       "      <td>Luis Garcia</td>\n",
       "    </tr>\n",
       "    <tr>\n",
       "      <td>905</td>\n",
       "      <td>garcl005</td>\n",
       "      <td>Luis Garcia</td>\n",
       "    </tr>\n",
       "    <tr>\n",
       "      <td>910</td>\n",
       "      <td>ortil002</td>\n",
       "      <td>Luis Ortiz</td>\n",
       "    </tr>\n",
       "    <tr>\n",
       "      <td>911</td>\n",
       "      <td>ortil003</td>\n",
       "      <td>Luis Ortiz</td>\n",
       "    </tr>\n",
       "    <tr>\n",
       "      <td>1430</td>\n",
       "      <td>smitw002</td>\n",
       "      <td>Will Smith</td>\n",
       "    </tr>\n",
       "    <tr>\n",
       "      <td>1431</td>\n",
       "      <td>smitw003</td>\n",
       "      <td>Will Smith</td>\n",
       "    </tr>\n",
       "  </tbody>\n",
       "</table>\n",
       "</div>"
      ],
      "text/plain": [
       "     RetroSheet ID            Name\n",
       "385       castd004  Diego Castillo\n",
       "386       castd002  Diego Castillo\n",
       "899       castl004   Luis Castillo\n",
       "900       castl003   Luis Castillo\n",
       "903       garcl006     Luis Garcia\n",
       "904       garcl007     Luis Garcia\n",
       "905       garcl005     Luis Garcia\n",
       "910       ortil002      Luis Ortiz\n",
       "911       ortil003      Luis Ortiz\n",
       "1430      smitw002      Will Smith\n",
       "1431      smitw003      Will Smith"
      ]
     },
     "execution_count": 33,
     "metadata": {},
     "output_type": "execute_result"
    }
   ],
   "source": [
    "# Create a DataFrame of the duplicated names in RetroSheet\n",
    "duplicatename_status = retrosheet_playerID_dataframe['Name'].isin(retrosheet_duplicatename_list)\n",
    "retrosheet_duplicatename_dataframe = retrosheet_playerID_dataframe[duplicatename_status]\n",
    "\n",
    "retrosheet_duplicatename_dataframe"
   ]
  },
  {
   "cell_type": "markdown",
   "metadata": {},
   "source": [
    "Notice that the RetroSheet table has 11 rows, while the Baseball Reference table has only 10 rows. This is an example of how player names are formatted differently between the two data sources. RetroSheet doesn't include any character accents.\n",
    "\n",
    "RetroSheet lists `Luis Garcia` three times, while Baseball Reference lists `Luis García` twice. This means that Baseball Reference data should contain one row representing a player named `Luis Garcia` (with no i-acute character)\n",
    "\n",
    "I want to make sure that this is accurate, and also lookup this player's Baseball Reference ID since I will include all 11 players in the final table for this case."
   ]
  },
  {
   "cell_type": "code",
   "execution_count": 40,
   "metadata": {},
   "outputs": [
    {
     "data": {
      "text/html": [
       "<div>\n",
       "<style scoped>\n",
       "    .dataframe tbody tr th:only-of-type {\n",
       "        vertical-align: middle;\n",
       "    }\n",
       "\n",
       "    .dataframe tbody tr th {\n",
       "        vertical-align: top;\n",
       "    }\n",
       "\n",
       "    .dataframe thead th {\n",
       "        text-align: right;\n",
       "    }\n",
       "</style>\n",
       "<table border=\"1\" class=\"dataframe\">\n",
       "  <thead>\n",
       "    <tr style=\"text-align: right;\">\n",
       "      <th></th>\n",
       "      <th>Name</th>\n",
       "      <th>Baseball Reference ID</th>\n",
       "    </tr>\n",
       "  </thead>\n",
       "  <tbody>\n",
       "    <tr>\n",
       "      <td>903</td>\n",
       "      <td>Luis Garcia</td>\n",
       "      <td>garcilu05</td>\n",
       "    </tr>\n",
       "  </tbody>\n",
       "</table>\n",
       "</div>"
      ],
      "text/plain": [
       "            Name Baseball Reference ID\n",
       "903  Luis Garcia             garcilu05"
      ]
     },
     "execution_count": 40,
     "metadata": {},
     "output_type": "execute_result"
    }
   ],
   "source": [
    "# Lookup 'Luis Garcia' in the Baseball Reference data\n",
    "bbref_playerID_dataframe[ bbref_playerID_dataframe['Name'] == 'Luis Garcia']"
   ]
  },
  {
   "cell_type": "code",
   "execution_count": 41,
   "metadata": {},
   "outputs": [],
   "source": [
    "# Create a new table, which will eventually contain the final result for this case\n",
    "duplicatename_dataframe = pd.DataFrame(columns = ['Name',\n",
    "                                                  'Baseball Reference ID',\n",
    "                                                  'RetroSheet ID'])"
   ]
  },
  {
   "cell_type": "code",
   "execution_count": 42,
   "metadata": {},
   "outputs": [],
   "source": [
    "# Copy the duplicated Baseball Reference player names and IDs into this table\n",
    "duplicatename_dataframe['Name'] = bbref_duplicatename_dataframe['Name']\n",
    "duplicatename_dataframe['Baseball Reference ID'] = bbref_duplicatename_dataframe['Baseball Reference ID']"
   ]
  },
  {
   "cell_type": "markdown",
   "metadata": {},
   "source": [
    "This new table now has 10 rows, matching the Baseball Reference duplicated names table."
   ]
  },
  {
   "cell_type": "code",
   "execution_count": 43,
   "metadata": {},
   "outputs": [],
   "source": [
    "# Manually copy the data for 'Luis Garcia'\n",
    "duplicatename_dataframe = duplicatename_dataframe.append({'Name' : 'Luis Garcia',\n",
    "                                                         'Baseball Reference ID' :' garcilu05'},\n",
    "                                                         ignore_index=True)"
   ]
  },
  {
   "cell_type": "markdown",
   "metadata": {},
   "source": [
    "#### Manually Edited Portion"
   ]
  },
  {
   "cell_type": "markdown",
   "metadata": {},
   "source": [
    "I'll export both of these tables to `.csv` files to open in a spreadsheet program like Excel. "
   ]
  },
  {
   "cell_type": "code",
   "execution_count": 47,
   "metadata": {},
   "outputs": [],
   "source": [
    "# Export final table (that needs to be filled in) to .csv file\n",
    "filename = '2022_NeedsManualEdit_DuplicateName_FullTable.csv'\n",
    "duplicatename_dataframe.to_csv(filename, index = False)\n",
    "\n",
    "# Export table with RetroSheet ID information to .csv file\n",
    "filename = '2022_NeedsManualEdit_DuplicateName_RetrosheetIDs.csv'\n",
    "retrosheet_duplicatename_dataframe.to_csv(filename, index = False)"
   ]
  },
  {
   "cell_type": "markdown",
   "metadata": {},
   "source": [
    "Manually editing these players' ID equivalencies requires some outside information. It's not possible to determine which IDs match up without using other information (for example, which team(s) the player played for). This information is accessible online and in the greater data collected for this project.\n",
    "\n",
    "For the 2022 season, I was able to match all 11 players' IDs up using players' teams only. The process I used was first to open both tables in Apple Numbers. Then, starting with `Diego Castillo` / `castidi02`, I looked up each Baseball Reference ID on the Baseball Reference website. I checked which team this player played for in 2022, and then opened the corresponding RetroSheet roster file and found the RetroSheet ID that corresponded to this name.\n",
    "\n",
    "This process works for all 2022 duplicate player names. If this project were to be expanded to a larger set of players, it's possible that this process would require more information to cross-reference and determine which IDs match."
   ]
  },
  {
   "cell_type": "markdown",
   "metadata": {},
   "source": [
    "After all the IDs were matched, I exported the table containing three columns (Name, Baseball Reference ID, RetroSheet ID) to a `.csv` file called `2022_ManualEdit_DuplicateName_FinalTable.csv`\n",
    "\n",
    "Now I'll import that table back into this notebook."
   ]
  },
  {
   "cell_type": "code",
   "execution_count": 48,
   "metadata": {},
   "outputs": [
    {
     "data": {
      "text/html": [
       "<div>\n",
       "<style scoped>\n",
       "    .dataframe tbody tr th:only-of-type {\n",
       "        vertical-align: middle;\n",
       "    }\n",
       "\n",
       "    .dataframe tbody tr th {\n",
       "        vertical-align: top;\n",
       "    }\n",
       "\n",
       "    .dataframe thead th {\n",
       "        text-align: right;\n",
       "    }\n",
       "</style>\n",
       "<table border=\"1\" class=\"dataframe\">\n",
       "  <thead>\n",
       "    <tr style=\"text-align: right;\">\n",
       "      <th></th>\n",
       "      <th>Name</th>\n",
       "      <th>Baseball Reference ID</th>\n",
       "      <th>RetroSheet ID</th>\n",
       "    </tr>\n",
       "  </thead>\n",
       "  <tbody>\n",
       "    <tr>\n",
       "      <td>0</td>\n",
       "      <td>Diego Castillo</td>\n",
       "      <td>castidi01</td>\n",
       "      <td>castd002</td>\n",
       "    </tr>\n",
       "    <tr>\n",
       "      <td>1</td>\n",
       "      <td>Diego Castillo</td>\n",
       "      <td>castidi02</td>\n",
       "      <td>castd004</td>\n",
       "    </tr>\n",
       "    <tr>\n",
       "      <td>2</td>\n",
       "      <td>Luis Castillo</td>\n",
       "      <td>castilu02</td>\n",
       "      <td>castl003</td>\n",
       "    </tr>\n",
       "    <tr>\n",
       "      <td>3</td>\n",
       "      <td>Luis Castillo</td>\n",
       "      <td>castilu03</td>\n",
       "      <td>castl004</td>\n",
       "    </tr>\n",
       "    <tr>\n",
       "      <td>4</td>\n",
       "      <td>Luis García</td>\n",
       "      <td>garcilu04</td>\n",
       "      <td>garcl006</td>\n",
       "    </tr>\n",
       "    <tr>\n",
       "      <td>5</td>\n",
       "      <td>Luis García</td>\n",
       "      <td>garcilu03</td>\n",
       "      <td>garcl005</td>\n",
       "    </tr>\n",
       "    <tr>\n",
       "      <td>6</td>\n",
       "      <td>Luis Ortiz</td>\n",
       "      <td>ortizlu02</td>\n",
       "      <td>ortil002</td>\n",
       "    </tr>\n",
       "    <tr>\n",
       "      <td>7</td>\n",
       "      <td>Luis Ortiz</td>\n",
       "      <td>ortizlu03</td>\n",
       "      <td>ortil003</td>\n",
       "    </tr>\n",
       "    <tr>\n",
       "      <td>8</td>\n",
       "      <td>Will Smith</td>\n",
       "      <td>smithwi05</td>\n",
       "      <td>smitw003</td>\n",
       "    </tr>\n",
       "    <tr>\n",
       "      <td>9</td>\n",
       "      <td>Will Smith</td>\n",
       "      <td>smithwi04</td>\n",
       "      <td>smitw002</td>\n",
       "    </tr>\n",
       "    <tr>\n",
       "      <td>10</td>\n",
       "      <td>Luis Garcia</td>\n",
       "      <td>garcilu05</td>\n",
       "      <td>garcl007</td>\n",
       "    </tr>\n",
       "  </tbody>\n",
       "</table>\n",
       "</div>"
      ],
      "text/plain": [
       "              Name Baseball Reference ID RetroSheet ID\n",
       "0   Diego Castillo             castidi01      castd002\n",
       "1   Diego Castillo             castidi02      castd004\n",
       "2    Luis Castillo             castilu02      castl003\n",
       "3    Luis Castillo             castilu03      castl004\n",
       "4      Luis García             garcilu04      garcl006\n",
       "5      Luis García             garcilu03      garcl005\n",
       "6       Luis Ortiz             ortizlu02      ortil002\n",
       "7       Luis Ortiz             ortizlu03      ortil003\n",
       "8       Will Smith             smithwi05      smitw003\n",
       "9       Will Smith             smithwi04      smitw002\n",
       "10     Luis Garcia             garcilu05      garcl007"
      ]
     },
     "execution_count": 48,
     "metadata": {},
     "output_type": "execute_result"
    }
   ],
   "source": [
    "filename = '2022_ManualEdit_DuplicateName_FinalTable.csv'\n",
    "duplicatename_dataframe = pd.read_csv(filename)\n",
    "duplicatename_dataframe"
   ]
  },
  {
   "cell_type": "markdown",
   "metadata": {},
   "source": [
    "Finally, I'll remove these players from the working tables `bbref_playerID_dataframe` and `retrosheet_playerID_dataframe` to prepare for the next case."
   ]
  },
  {
   "cell_type": "code",
   "execution_count": 55,
   "metadata": {},
   "outputs": [],
   "source": [
    "# Remove Case 1 players from Baseball Reference table\n",
    "duplicatedID_list = duplicatename_dataframe['Baseball Reference ID']\n",
    "duplicatedID_status_list = bbref_playerID_dataframe['Baseball Reference ID'].isin(duplicatedID_list)\n",
    "bbref_playerID_dataframe = bbref_playerID_dataframe[ ~duplicatedID_status_list]"
   ]
  },
  {
   "cell_type": "code",
   "execution_count": 56,
   "metadata": {
    "scrolled": true
   },
   "outputs": [],
   "source": [
    "# Remove Case 1 players from RetroSheet table\n",
    "duplicatedID_list = duplicatename_dataframe['RetroSheet ID']\n",
    "duplicatedID_status_list = retrosheet_playerID_dataframe['RetroSheet ID'].isin(duplicatedID_list)\n",
    "retrosheet_playerID_dataframe = retrosheet_playerID_dataframe[ ~duplicatedID_status_list]"
   ]
  },
  {
   "cell_type": "markdown",
   "metadata": {},
   "source": [
    "### `Case 2`: Matching Names"
   ]
  },
  {
   "cell_type": "markdown",
   "metadata": {},
   "source": [
    "This is the category into which 90% of players fall, where their name is listed the same way in both sets of data.\n",
    "\n",
    "I'll use the built in merge function, which is similar to a SQL join. The functionality is not identical, this is discussed further in the [pandas documentation](https://pandas.pydata.org/pandas-docs/stable/reference/api/pandas.merge.html)\n",
    "\n",
    "Similar to the previous case, I'll make a new table with the matching names and then remove them from the working tables."
   ]
  },
  {
   "cell_type": "code",
   "execution_count": 60,
   "metadata": {},
   "outputs": [
    {
     "data": {
      "text/html": [
       "<div>\n",
       "<style scoped>\n",
       "    .dataframe tbody tr th:only-of-type {\n",
       "        vertical-align: middle;\n",
       "    }\n",
       "\n",
       "    .dataframe tbody tr th {\n",
       "        vertical-align: top;\n",
       "    }\n",
       "\n",
       "    .dataframe thead th {\n",
       "        text-align: right;\n",
       "    }\n",
       "</style>\n",
       "<table border=\"1\" class=\"dataframe\">\n",
       "  <thead>\n",
       "    <tr style=\"text-align: right;\">\n",
       "      <th></th>\n",
       "      <th>Name</th>\n",
       "      <th>Baseball Reference ID</th>\n",
       "      <th>RetroSheet ID</th>\n",
       "    </tr>\n",
       "  </thead>\n",
       "  <tbody>\n",
       "    <tr>\n",
       "      <td>0</td>\n",
       "      <td>AJ Pollock</td>\n",
       "      <td>polloaj01</td>\n",
       "      <td>polla001</td>\n",
       "    </tr>\n",
       "    <tr>\n",
       "      <td>1</td>\n",
       "      <td>Aaron Ashby</td>\n",
       "      <td>ashbyaa01</td>\n",
       "      <td>ashba003</td>\n",
       "    </tr>\n",
       "    <tr>\n",
       "      <td>2</td>\n",
       "      <td>Aaron Brooks</td>\n",
       "      <td>brookaa01</td>\n",
       "      <td>brooa001</td>\n",
       "    </tr>\n",
       "    <tr>\n",
       "      <td>3</td>\n",
       "      <td>Aaron Bummer</td>\n",
       "      <td>bummeaa01</td>\n",
       "      <td>bumma001</td>\n",
       "    </tr>\n",
       "    <tr>\n",
       "      <td>4</td>\n",
       "      <td>Aaron Civale</td>\n",
       "      <td>civalaa01</td>\n",
       "      <td>civaa001</td>\n",
       "    </tr>\n",
       "    <tr>\n",
       "      <td>...</td>\n",
       "      <td>...</td>\n",
       "      <td>...</td>\n",
       "      <td>...</td>\n",
       "    </tr>\n",
       "    <tr>\n",
       "      <td>1311</td>\n",
       "      <td>Zack Littell</td>\n",
       "      <td>litteza01</td>\n",
       "      <td>littz001</td>\n",
       "    </tr>\n",
       "    <tr>\n",
       "      <td>1312</td>\n",
       "      <td>Zack Short</td>\n",
       "      <td>shortza01</td>\n",
       "      <td>shorz001</td>\n",
       "    </tr>\n",
       "    <tr>\n",
       "      <td>1313</td>\n",
       "      <td>Zack Thompson</td>\n",
       "      <td>thompza02</td>\n",
       "      <td>thomz002</td>\n",
       "    </tr>\n",
       "    <tr>\n",
       "      <td>1314</td>\n",
       "      <td>Zack Weiss</td>\n",
       "      <td>weissza01</td>\n",
       "      <td>weisz001</td>\n",
       "    </tr>\n",
       "    <tr>\n",
       "      <td>1315</td>\n",
       "      <td>Zack Wheeler</td>\n",
       "      <td>wheelza01</td>\n",
       "      <td>wheez001</td>\n",
       "    </tr>\n",
       "  </tbody>\n",
       "</table>\n",
       "<p>1316 rows × 3 columns</p>\n",
       "</div>"
      ],
      "text/plain": [
       "               Name Baseball Reference ID RetroSheet ID\n",
       "0        AJ Pollock             polloaj01      polla001\n",
       "1       Aaron Ashby             ashbyaa01      ashba003\n",
       "2      Aaron Brooks             brookaa01      brooa001\n",
       "3      Aaron Bummer             bummeaa01      bumma001\n",
       "4      Aaron Civale             civalaa01      civaa001\n",
       "...             ...                   ...           ...\n",
       "1311   Zack Littell             litteza01      littz001\n",
       "1312     Zack Short             shortza01      shorz001\n",
       "1313  Zack Thompson             thompza02      thomz002\n",
       "1314     Zack Weiss             weissza01      weisz001\n",
       "1315   Zack Wheeler             wheelza01      wheez001\n",
       "\n",
       "[1316 rows x 3 columns]"
      ]
     },
     "execution_count": 60,
     "metadata": {},
     "output_type": "execute_result"
    }
   ],
   "source": [
    "# Use merge function to match up IDs\n",
    "matchingname_dataframe = bbref_playerID_dataframe.merge(retrosheet_playerID_dataframe)\n",
    "matchingname_dataframe"
   ]
  },
  {
   "cell_type": "code",
   "execution_count": 61,
   "metadata": {},
   "outputs": [],
   "source": [
    "# Remove these rows from the Baseball Reference and RetroSheet DataFrames\n",
    "bbref_playerID_dataframe = bbref_playerID_dataframe[ ~bbref_playerID_dataframe['Baseball Reference ID'].isin(matchingname_dataframe['Baseball Reference ID'])]\n",
    "retrosheet_playerID_dataframe = retrosheet_playerID_dataframe[ ~retrosheet_playerID_dataframe['RetroSheet ID'].isin(matchingname_dataframe['RetroSheet ID'])]"
   ]
  },
  {
   "cell_type": "markdown",
   "metadata": {},
   "source": [
    "### `Case 3`: Non-Matching Names across data sources"
   ]
  },
  {
   "cell_type": "markdown",
   "metadata": {},
   "source": [
    "This leaves all the names that don't match across the two data sources. \n",
    "\n",
    "Similar to `Case 1`, I'll export the two tables to `.csv` files and complete the manual editing in a spreadsheet program like Excel. I'll export that result to another `.csv` file, which I'll import back into this notebook as the final result for this case."
   ]
  },
  {
   "cell_type": "code",
   "execution_count": 63,
   "metadata": {},
   "outputs": [
    {
     "data": {
      "text/html": [
       "<div>\n",
       "<style scoped>\n",
       "    .dataframe tbody tr th:only-of-type {\n",
       "        vertical-align: middle;\n",
       "    }\n",
       "\n",
       "    .dataframe tbody tr th {\n",
       "        vertical-align: top;\n",
       "    }\n",
       "\n",
       "    .dataframe thead th {\n",
       "        text-align: right;\n",
       "    }\n",
       "</style>\n",
       "<table border=\"1\" class=\"dataframe\">\n",
       "  <thead>\n",
       "    <tr style=\"text-align: right;\">\n",
       "      <th></th>\n",
       "      <th>Name</th>\n",
       "      <th>Baseball Reference ID</th>\n",
       "      <th>RetroSheet ID</th>\n",
       "    </tr>\n",
       "  </thead>\n",
       "  <tbody>\n",
       "  </tbody>\n",
       "</table>\n",
       "</div>"
      ],
      "text/plain": [
       "Empty DataFrame\n",
       "Columns: [Name, Baseball Reference ID, RetroSheet ID]\n",
       "Index: []"
      ]
     },
     "execution_count": 63,
     "metadata": {},
     "output_type": "execute_result"
    }
   ],
   "source": [
    "# Create a new table, which will eventually contain the final result for this case\n",
    "nonmatchingname_dataframe = pd.DataFrame(columns = ['Name',\n",
    "                                                   'Baseball Reference ID',\n",
    "                                                   'RetroSheet ID'])\n",
    "nonmatchingname_dataframe"
   ]
  },
  {
   "cell_type": "code",
   "execution_count": 65,
   "metadata": {},
   "outputs": [],
   "source": [
    "# Copy the remaining Baseball Reference player names and IDs into this table\n",
    "nonmatchingname_dataframe['Name'] = bbref_playerID_dataframe['Name']\n",
    "nonmatchingname_dataframe['Baseball Reference ID'] = bbref_playerID_dataframe['Baseball Reference ID']"
   ]
  },
  {
   "cell_type": "code",
   "execution_count": 67,
   "metadata": {},
   "outputs": [
    {
     "data": {
      "text/html": [
       "<div>\n",
       "<style scoped>\n",
       "    .dataframe tbody tr th:only-of-type {\n",
       "        vertical-align: middle;\n",
       "    }\n",
       "\n",
       "    .dataframe tbody tr th {\n",
       "        vertical-align: top;\n",
       "    }\n",
       "\n",
       "    .dataframe thead th {\n",
       "        text-align: right;\n",
       "    }\n",
       "</style>\n",
       "<table border=\"1\" class=\"dataframe\">\n",
       "  <thead>\n",
       "    <tr style=\"text-align: right;\">\n",
       "      <th></th>\n",
       "      <th>RetroSheet ID</th>\n",
       "      <th>Name</th>\n",
       "    </tr>\n",
       "  </thead>\n",
       "  <tbody>\n",
       "    <tr>\n",
       "      <td>0</td>\n",
       "      <td>alexa001</td>\n",
       "      <td>A. J. Alexy</td>\n",
       "    </tr>\n",
       "    <tr>\n",
       "      <td>1</td>\n",
       "      <td>ladwa001</td>\n",
       "      <td>A. J. Ladwig</td>\n",
       "    </tr>\n",
       "    <tr>\n",
       "      <td>2</td>\n",
       "      <td>minta001</td>\n",
       "      <td>A. J. Minter</td>\n",
       "    </tr>\n",
       "    <tr>\n",
       "      <td>3</td>\n",
       "      <td>puk-a001</td>\n",
       "      <td>A. J. Puk</td>\n",
       "    </tr>\n",
       "    <tr>\n",
       "      <td>18</td>\n",
       "      <td>mondr003</td>\n",
       "      <td>Adalberto Mondesi</td>\n",
       "    </tr>\n",
       "    <tr>\n",
       "      <td>...</td>\n",
       "      <td>...</td>\n",
       "      <td>...</td>\n",
       "    </tr>\n",
       "    <tr>\n",
       "      <td>1447</td>\n",
       "      <td>herny002</td>\n",
       "      <td>Yadiel Hernandez</td>\n",
       "    </tr>\n",
       "    <tr>\n",
       "      <td>1452</td>\n",
       "      <td>diazy001</td>\n",
       "      <td>Yandy Diaz</td>\n",
       "    </tr>\n",
       "    <tr>\n",
       "      <td>1456</td>\n",
       "      <td>mercy001</td>\n",
       "      <td>Yermin Mercedes</td>\n",
       "    </tr>\n",
       "    <tr>\n",
       "      <td>1460</td>\n",
       "      <td>lopey001</td>\n",
       "      <td>Yoan Lopez</td>\n",
       "    </tr>\n",
       "    <tr>\n",
       "      <td>1461</td>\n",
       "      <td>moncy001</td>\n",
       "      <td>Yoan Moncada</td>\n",
       "    </tr>\n",
       "  </tbody>\n",
       "</table>\n",
       "<p>168 rows × 2 columns</p>\n",
       "</div>"
      ],
      "text/plain": [
       "     RetroSheet ID               Name\n",
       "0         alexa001        A. J. Alexy\n",
       "1         ladwa001       A. J. Ladwig\n",
       "2         minta001       A. J. Minter\n",
       "3         puk-a001          A. J. Puk\n",
       "18        mondr003  Adalberto Mondesi\n",
       "...            ...                ...\n",
       "1447      herny002   Yadiel Hernandez\n",
       "1452      diazy001         Yandy Diaz\n",
       "1456      mercy001    Yermin Mercedes\n",
       "1460      lopey001         Yoan Lopez\n",
       "1461      moncy001       Yoan Moncada\n",
       "\n",
       "[168 rows x 2 columns]"
      ]
     },
     "execution_count": 67,
     "metadata": {},
     "output_type": "execute_result"
    }
   ],
   "source": [
    "retrosheet_playerID_dataframe"
   ]
  },
  {
   "cell_type": "code",
   "execution_count": 68,
   "metadata": {},
   "outputs": [],
   "source": [
    "# Export final table (that needs to be filled in) to .csv file\n",
    "nonmatchingname_dataframe.to_csv('2022_NeedsManualEdit_NonMatchingName_FullTable.csv', index = False)\n",
    "\n",
    "# Export table with RetroSheet ID information to .csv file\n",
    "retrosheet_playerID_dataframe.to_csv('2022_NeedsManualEdit_NonMatchingName_RetroSheetIDs.csv', index = False)"
   ]
  },
  {
   "cell_type": "markdown",
   "metadata": {},
   "source": [
    "#### Manually Edited Portion"
   ]
  },
  {
   "cell_type": "markdown",
   "metadata": {},
   "source": [
    "I opened both tables in the spreadsheet program (I used Apple Numbers), and organized them so that they were next to each other. Then, I went down the sequentially one-by-one and copied the proper RetroSheet IDs into the full table. Since the tables are sorted alphabetically, most of the players (about 85%) are organized such that they occur in the same row in both tables.\n",
    "\n",
    "This portion of manual editing requires great attention to detail. While most players do appear in the same row, there are blocks of rows where the order of players are mixed up.\n",
    "\n",
    "If this project were to be expanded to process more than one season, it is this sub-process that would benefit most from more automation. I determined that for the scope of this project, since this is a one-time manual edit and there are only 168 players, it would not be the best investment of resources to invest in automating this, at this time.\n"
   ]
  },
  {
   "cell_type": "code",
   "execution_count": 69,
   "metadata": {},
   "outputs": [],
   "source": [
    "nonmatchingname_dataframe = pd.read_csv('2022_ManualEdit_NonMatchingName_FinalTable.csv')"
   ]
  },
  {
   "cell_type": "code",
   "execution_count": 70,
   "metadata": {},
   "outputs": [
    {
     "data": {
      "text/html": [
       "<div>\n",
       "<style scoped>\n",
       "    .dataframe tbody tr th:only-of-type {\n",
       "        vertical-align: middle;\n",
       "    }\n",
       "\n",
       "    .dataframe tbody tr th {\n",
       "        vertical-align: top;\n",
       "    }\n",
       "\n",
       "    .dataframe thead th {\n",
       "        text-align: right;\n",
       "    }\n",
       "</style>\n",
       "<table border=\"1\" class=\"dataframe\">\n",
       "  <thead>\n",
       "    <tr style=\"text-align: right;\">\n",
       "      <th></th>\n",
       "      <th>Name</th>\n",
       "      <th>Baseball Reference ID</th>\n",
       "      <th>RetroSheet ID</th>\n",
       "    </tr>\n",
       "  </thead>\n",
       "  <tbody>\n",
       "    <tr>\n",
       "      <td>0</td>\n",
       "      <td>A.J. Alexy</td>\n",
       "      <td>alexyaj01</td>\n",
       "      <td>alexa001</td>\n",
       "    </tr>\n",
       "    <tr>\n",
       "      <td>1</td>\n",
       "      <td>A.J. Ladwig</td>\n",
       "      <td>ladwiaj01</td>\n",
       "      <td>ladwa001</td>\n",
       "    </tr>\n",
       "    <tr>\n",
       "      <td>2</td>\n",
       "      <td>A.J. Minter</td>\n",
       "      <td>minteaj01</td>\n",
       "      <td>minta001</td>\n",
       "    </tr>\n",
       "    <tr>\n",
       "      <td>3</td>\n",
       "      <td>A.J. Puk</td>\n",
       "      <td>pukaj01</td>\n",
       "      <td>puk-a001</td>\n",
       "    </tr>\n",
       "    <tr>\n",
       "      <td>4</td>\n",
       "      <td>Adalberto Mondesí</td>\n",
       "      <td>mondera02</td>\n",
       "      <td>mondr003</td>\n",
       "    </tr>\n",
       "    <tr>\n",
       "      <td>...</td>\n",
       "      <td>...</td>\n",
       "      <td>...</td>\n",
       "      <td>...</td>\n",
       "    </tr>\n",
       "    <tr>\n",
       "      <td>163</td>\n",
       "      <td>Yadiel Hernández</td>\n",
       "      <td>hernaya01</td>\n",
       "      <td>herny002</td>\n",
       "    </tr>\n",
       "    <tr>\n",
       "      <td>164</td>\n",
       "      <td>Yandy Díaz</td>\n",
       "      <td>diazya01</td>\n",
       "      <td>diazy001</td>\n",
       "    </tr>\n",
       "    <tr>\n",
       "      <td>165</td>\n",
       "      <td>Yermín Mercedes</td>\n",
       "      <td>merceye01</td>\n",
       "      <td>mercy001</td>\n",
       "    </tr>\n",
       "    <tr>\n",
       "      <td>166</td>\n",
       "      <td>Yoan López</td>\n",
       "      <td>lopezyo01</td>\n",
       "      <td>lopey001</td>\n",
       "    </tr>\n",
       "    <tr>\n",
       "      <td>167</td>\n",
       "      <td>Yoán Moncada</td>\n",
       "      <td>moncayo01</td>\n",
       "      <td>moncy001</td>\n",
       "    </tr>\n",
       "  </tbody>\n",
       "</table>\n",
       "<p>168 rows × 3 columns</p>\n",
       "</div>"
      ],
      "text/plain": [
       "                  Name Baseball Reference ID RetroSheet ID\n",
       "0           A.J. Alexy             alexyaj01      alexa001\n",
       "1          A.J. Ladwig             ladwiaj01      ladwa001\n",
       "2          A.J. Minter             minteaj01      minta001\n",
       "3             A.J. Puk               pukaj01      puk-a001\n",
       "4    Adalberto Mondesí             mondera02      mondr003\n",
       "..                 ...                   ...           ...\n",
       "163   Yadiel Hernández             hernaya01      herny002\n",
       "164         Yandy Díaz              diazya01      diazy001\n",
       "165    Yermín Mercedes             merceye01      mercy001\n",
       "166         Yoan López             lopezyo01      lopey001\n",
       "167       Yoán Moncada             moncayo01      moncy001\n",
       "\n",
       "[168 rows x 3 columns]"
      ]
     },
     "execution_count": 70,
     "metadata": {},
     "output_type": "execute_result"
    }
   ],
   "source": [
    "nonmatchingname_dataframe"
   ]
  },
  {
   "cell_type": "markdown",
   "metadata": {},
   "source": [
    "### Combining All ID Equivalency Tables"
   ]
  },
  {
   "cell_type": "markdown",
   "metadata": {},
   "source": [
    "Now that I have all 3 tables, I can complete the final step of combining them into one table."
   ]
  },
  {
   "cell_type": "code",
   "execution_count": 72,
   "metadata": {},
   "outputs": [
    {
     "data": {
      "text/html": [
       "<div>\n",
       "<style scoped>\n",
       "    .dataframe tbody tr th:only-of-type {\n",
       "        vertical-align: middle;\n",
       "    }\n",
       "\n",
       "    .dataframe tbody tr th {\n",
       "        vertical-align: top;\n",
       "    }\n",
       "\n",
       "    .dataframe thead th {\n",
       "        text-align: right;\n",
       "    }\n",
       "</style>\n",
       "<table border=\"1\" class=\"dataframe\">\n",
       "  <thead>\n",
       "    <tr style=\"text-align: right;\">\n",
       "      <th></th>\n",
       "      <th>Name</th>\n",
       "      <th>Baseball Reference ID</th>\n",
       "      <th>RetroSheet ID</th>\n",
       "    </tr>\n",
       "  </thead>\n",
       "  <tbody>\n",
       "    <tr>\n",
       "      <td>0</td>\n",
       "      <td>Diego Castillo</td>\n",
       "      <td>castidi01</td>\n",
       "      <td>castd002</td>\n",
       "    </tr>\n",
       "    <tr>\n",
       "      <td>1</td>\n",
       "      <td>Diego Castillo</td>\n",
       "      <td>castidi02</td>\n",
       "      <td>castd004</td>\n",
       "    </tr>\n",
       "    <tr>\n",
       "      <td>2</td>\n",
       "      <td>Luis Castillo</td>\n",
       "      <td>castilu02</td>\n",
       "      <td>castl003</td>\n",
       "    </tr>\n",
       "    <tr>\n",
       "      <td>3</td>\n",
       "      <td>Luis Castillo</td>\n",
       "      <td>castilu03</td>\n",
       "      <td>castl004</td>\n",
       "    </tr>\n",
       "    <tr>\n",
       "      <td>4</td>\n",
       "      <td>Luis García</td>\n",
       "      <td>garcilu04</td>\n",
       "      <td>garcl006</td>\n",
       "    </tr>\n",
       "    <tr>\n",
       "      <td>5</td>\n",
       "      <td>Luis García</td>\n",
       "      <td>garcilu03</td>\n",
       "      <td>garcl005</td>\n",
       "    </tr>\n",
       "    <tr>\n",
       "      <td>6</td>\n",
       "      <td>Luis Ortiz</td>\n",
       "      <td>ortizlu02</td>\n",
       "      <td>ortil002</td>\n",
       "    </tr>\n",
       "    <tr>\n",
       "      <td>7</td>\n",
       "      <td>Luis Ortiz</td>\n",
       "      <td>ortizlu03</td>\n",
       "      <td>ortil003</td>\n",
       "    </tr>\n",
       "    <tr>\n",
       "      <td>8</td>\n",
       "      <td>Will Smith</td>\n",
       "      <td>smithwi05</td>\n",
       "      <td>smitw003</td>\n",
       "    </tr>\n",
       "    <tr>\n",
       "      <td>9</td>\n",
       "      <td>Will Smith</td>\n",
       "      <td>smithwi04</td>\n",
       "      <td>smitw002</td>\n",
       "    </tr>\n",
       "    <tr>\n",
       "      <td>10</td>\n",
       "      <td>Luis Garcia</td>\n",
       "      <td>garcilu05</td>\n",
       "      <td>garcl007</td>\n",
       "    </tr>\n",
       "  </tbody>\n",
       "</table>\n",
       "</div>"
      ],
      "text/plain": [
       "              Name Baseball Reference ID RetroSheet ID\n",
       "0   Diego Castillo             castidi01      castd002\n",
       "1   Diego Castillo             castidi02      castd004\n",
       "2    Luis Castillo             castilu02      castl003\n",
       "3    Luis Castillo             castilu03      castl004\n",
       "4      Luis García             garcilu04      garcl006\n",
       "5      Luis García             garcilu03      garcl005\n",
       "6       Luis Ortiz             ortizlu02      ortil002\n",
       "7       Luis Ortiz             ortizlu03      ortil003\n",
       "8       Will Smith             smithwi05      smitw003\n",
       "9       Will Smith             smithwi04      smitw002\n",
       "10     Luis Garcia             garcilu05      garcl007"
      ]
     },
     "execution_count": 72,
     "metadata": {},
     "output_type": "execute_result"
    }
   ],
   "source": [
    "duplicatename_dataframe"
   ]
  },
  {
   "cell_type": "code",
   "execution_count": 71,
   "metadata": {},
   "outputs": [
    {
     "data": {
      "text/html": [
       "<div>\n",
       "<style scoped>\n",
       "    .dataframe tbody tr th:only-of-type {\n",
       "        vertical-align: middle;\n",
       "    }\n",
       "\n",
       "    .dataframe tbody tr th {\n",
       "        vertical-align: top;\n",
       "    }\n",
       "\n",
       "    .dataframe thead th {\n",
       "        text-align: right;\n",
       "    }\n",
       "</style>\n",
       "<table border=\"1\" class=\"dataframe\">\n",
       "  <thead>\n",
       "    <tr style=\"text-align: right;\">\n",
       "      <th></th>\n",
       "      <th>Name</th>\n",
       "      <th>Baseball Reference ID</th>\n",
       "      <th>RetroSheet ID</th>\n",
       "    </tr>\n",
       "  </thead>\n",
       "  <tbody>\n",
       "    <tr>\n",
       "      <td>0</td>\n",
       "      <td>AJ Pollock</td>\n",
       "      <td>polloaj01</td>\n",
       "      <td>polla001</td>\n",
       "    </tr>\n",
       "    <tr>\n",
       "      <td>1</td>\n",
       "      <td>Aaron Ashby</td>\n",
       "      <td>ashbyaa01</td>\n",
       "      <td>ashba003</td>\n",
       "    </tr>\n",
       "    <tr>\n",
       "      <td>2</td>\n",
       "      <td>Aaron Brooks</td>\n",
       "      <td>brookaa01</td>\n",
       "      <td>brooa001</td>\n",
       "    </tr>\n",
       "    <tr>\n",
       "      <td>3</td>\n",
       "      <td>Aaron Bummer</td>\n",
       "      <td>bummeaa01</td>\n",
       "      <td>bumma001</td>\n",
       "    </tr>\n",
       "    <tr>\n",
       "      <td>4</td>\n",
       "      <td>Aaron Civale</td>\n",
       "      <td>civalaa01</td>\n",
       "      <td>civaa001</td>\n",
       "    </tr>\n",
       "    <tr>\n",
       "      <td>...</td>\n",
       "      <td>...</td>\n",
       "      <td>...</td>\n",
       "      <td>...</td>\n",
       "    </tr>\n",
       "    <tr>\n",
       "      <td>1311</td>\n",
       "      <td>Zack Littell</td>\n",
       "      <td>litteza01</td>\n",
       "      <td>littz001</td>\n",
       "    </tr>\n",
       "    <tr>\n",
       "      <td>1312</td>\n",
       "      <td>Zack Short</td>\n",
       "      <td>shortza01</td>\n",
       "      <td>shorz001</td>\n",
       "    </tr>\n",
       "    <tr>\n",
       "      <td>1313</td>\n",
       "      <td>Zack Thompson</td>\n",
       "      <td>thompza02</td>\n",
       "      <td>thomz002</td>\n",
       "    </tr>\n",
       "    <tr>\n",
       "      <td>1314</td>\n",
       "      <td>Zack Weiss</td>\n",
       "      <td>weissza01</td>\n",
       "      <td>weisz001</td>\n",
       "    </tr>\n",
       "    <tr>\n",
       "      <td>1315</td>\n",
       "      <td>Zack Wheeler</td>\n",
       "      <td>wheelza01</td>\n",
       "      <td>wheez001</td>\n",
       "    </tr>\n",
       "  </tbody>\n",
       "</table>\n",
       "<p>1316 rows × 3 columns</p>\n",
       "</div>"
      ],
      "text/plain": [
       "               Name Baseball Reference ID RetroSheet ID\n",
       "0        AJ Pollock             polloaj01      polla001\n",
       "1       Aaron Ashby             ashbyaa01      ashba003\n",
       "2      Aaron Brooks             brookaa01      brooa001\n",
       "3      Aaron Bummer             bummeaa01      bumma001\n",
       "4      Aaron Civale             civalaa01      civaa001\n",
       "...             ...                   ...           ...\n",
       "1311   Zack Littell             litteza01      littz001\n",
       "1312     Zack Short             shortza01      shorz001\n",
       "1313  Zack Thompson             thompza02      thomz002\n",
       "1314     Zack Weiss             weissza01      weisz001\n",
       "1315   Zack Wheeler             wheelza01      wheez001\n",
       "\n",
       "[1316 rows x 3 columns]"
      ]
     },
     "execution_count": 71,
     "metadata": {},
     "output_type": "execute_result"
    }
   ],
   "source": [
    "matchingname_dataframe"
   ]
  },
  {
   "cell_type": "code",
   "execution_count": 73,
   "metadata": {},
   "outputs": [
    {
     "data": {
      "text/html": [
       "<div>\n",
       "<style scoped>\n",
       "    .dataframe tbody tr th:only-of-type {\n",
       "        vertical-align: middle;\n",
       "    }\n",
       "\n",
       "    .dataframe tbody tr th {\n",
       "        vertical-align: top;\n",
       "    }\n",
       "\n",
       "    .dataframe thead th {\n",
       "        text-align: right;\n",
       "    }\n",
       "</style>\n",
       "<table border=\"1\" class=\"dataframe\">\n",
       "  <thead>\n",
       "    <tr style=\"text-align: right;\">\n",
       "      <th></th>\n",
       "      <th>Name</th>\n",
       "      <th>Baseball Reference ID</th>\n",
       "      <th>RetroSheet ID</th>\n",
       "    </tr>\n",
       "  </thead>\n",
       "  <tbody>\n",
       "    <tr>\n",
       "      <td>0</td>\n",
       "      <td>A.J. Alexy</td>\n",
       "      <td>alexyaj01</td>\n",
       "      <td>alexa001</td>\n",
       "    </tr>\n",
       "    <tr>\n",
       "      <td>1</td>\n",
       "      <td>A.J. Ladwig</td>\n",
       "      <td>ladwiaj01</td>\n",
       "      <td>ladwa001</td>\n",
       "    </tr>\n",
       "    <tr>\n",
       "      <td>2</td>\n",
       "      <td>A.J. Minter</td>\n",
       "      <td>minteaj01</td>\n",
       "      <td>minta001</td>\n",
       "    </tr>\n",
       "    <tr>\n",
       "      <td>3</td>\n",
       "      <td>A.J. Puk</td>\n",
       "      <td>pukaj01</td>\n",
       "      <td>puk-a001</td>\n",
       "    </tr>\n",
       "    <tr>\n",
       "      <td>4</td>\n",
       "      <td>Adalberto Mondesí</td>\n",
       "      <td>mondera02</td>\n",
       "      <td>mondr003</td>\n",
       "    </tr>\n",
       "    <tr>\n",
       "      <td>...</td>\n",
       "      <td>...</td>\n",
       "      <td>...</td>\n",
       "      <td>...</td>\n",
       "    </tr>\n",
       "    <tr>\n",
       "      <td>163</td>\n",
       "      <td>Yadiel Hernández</td>\n",
       "      <td>hernaya01</td>\n",
       "      <td>herny002</td>\n",
       "    </tr>\n",
       "    <tr>\n",
       "      <td>164</td>\n",
       "      <td>Yandy Díaz</td>\n",
       "      <td>diazya01</td>\n",
       "      <td>diazy001</td>\n",
       "    </tr>\n",
       "    <tr>\n",
       "      <td>165</td>\n",
       "      <td>Yermín Mercedes</td>\n",
       "      <td>merceye01</td>\n",
       "      <td>mercy001</td>\n",
       "    </tr>\n",
       "    <tr>\n",
       "      <td>166</td>\n",
       "      <td>Yoan López</td>\n",
       "      <td>lopezyo01</td>\n",
       "      <td>lopey001</td>\n",
       "    </tr>\n",
       "    <tr>\n",
       "      <td>167</td>\n",
       "      <td>Yoán Moncada</td>\n",
       "      <td>moncayo01</td>\n",
       "      <td>moncy001</td>\n",
       "    </tr>\n",
       "  </tbody>\n",
       "</table>\n",
       "<p>168 rows × 3 columns</p>\n",
       "</div>"
      ],
      "text/plain": [
       "                  Name Baseball Reference ID RetroSheet ID\n",
       "0           A.J. Alexy             alexyaj01      alexa001\n",
       "1          A.J. Ladwig             ladwiaj01      ladwa001\n",
       "2          A.J. Minter             minteaj01      minta001\n",
       "3             A.J. Puk               pukaj01      puk-a001\n",
       "4    Adalberto Mondesí             mondera02      mondr003\n",
       "..                 ...                   ...           ...\n",
       "163   Yadiel Hernández             hernaya01      herny002\n",
       "164         Yandy Díaz              diazya01      diazy001\n",
       "165    Yermín Mercedes             merceye01      mercy001\n",
       "166         Yoan López             lopezyo01      lopey001\n",
       "167       Yoán Moncada             moncayo01      moncy001\n",
       "\n",
       "[168 rows x 3 columns]"
      ]
     },
     "execution_count": 73,
     "metadata": {},
     "output_type": "execute_result"
    }
   ],
   "source": [
    "nonmatchingname_dataframe"
   ]
  },
  {
   "cell_type": "code",
   "execution_count": 75,
   "metadata": {},
   "outputs": [],
   "source": [
    "finalresult_dataframe = pd.concat([duplicatename_dataframe,\n",
    "                                   matchingname_dataframe,\n",
    "                                   nonmatchingname_dataframe])"
   ]
  },
  {
   "cell_type": "code",
   "execution_count": 76,
   "metadata": {},
   "outputs": [
    {
     "data": {
      "text/html": [
       "<div>\n",
       "<style scoped>\n",
       "    .dataframe tbody tr th:only-of-type {\n",
       "        vertical-align: middle;\n",
       "    }\n",
       "\n",
       "    .dataframe tbody tr th {\n",
       "        vertical-align: top;\n",
       "    }\n",
       "\n",
       "    .dataframe thead th {\n",
       "        text-align: right;\n",
       "    }\n",
       "</style>\n",
       "<table border=\"1\" class=\"dataframe\">\n",
       "  <thead>\n",
       "    <tr style=\"text-align: right;\">\n",
       "      <th></th>\n",
       "      <th>Name</th>\n",
       "      <th>Baseball Reference ID</th>\n",
       "      <th>RetroSheet ID</th>\n",
       "    </tr>\n",
       "  </thead>\n",
       "  <tbody>\n",
       "    <tr>\n",
       "      <td>0</td>\n",
       "      <td>A.J. Alexy</td>\n",
       "      <td>alexyaj01</td>\n",
       "      <td>alexa001</td>\n",
       "    </tr>\n",
       "    <tr>\n",
       "      <td>1</td>\n",
       "      <td>A.J. Ladwig</td>\n",
       "      <td>ladwiaj01</td>\n",
       "      <td>ladwa001</td>\n",
       "    </tr>\n",
       "    <tr>\n",
       "      <td>2</td>\n",
       "      <td>A.J. Minter</td>\n",
       "      <td>minteaj01</td>\n",
       "      <td>minta001</td>\n",
       "    </tr>\n",
       "    <tr>\n",
       "      <td>3</td>\n",
       "      <td>A.J. Puk</td>\n",
       "      <td>pukaj01</td>\n",
       "      <td>puk-a001</td>\n",
       "    </tr>\n",
       "    <tr>\n",
       "      <td>4</td>\n",
       "      <td>AJ Pollock</td>\n",
       "      <td>polloaj01</td>\n",
       "      <td>polla001</td>\n",
       "    </tr>\n",
       "    <tr>\n",
       "      <td>...</td>\n",
       "      <td>...</td>\n",
       "      <td>...</td>\n",
       "      <td>...</td>\n",
       "    </tr>\n",
       "    <tr>\n",
       "      <td>1490</td>\n",
       "      <td>Zack Littell</td>\n",
       "      <td>litteza01</td>\n",
       "      <td>littz001</td>\n",
       "    </tr>\n",
       "    <tr>\n",
       "      <td>1491</td>\n",
       "      <td>Zack Short</td>\n",
       "      <td>shortza01</td>\n",
       "      <td>shorz001</td>\n",
       "    </tr>\n",
       "    <tr>\n",
       "      <td>1492</td>\n",
       "      <td>Zack Thompson</td>\n",
       "      <td>thompza02</td>\n",
       "      <td>thomz002</td>\n",
       "    </tr>\n",
       "    <tr>\n",
       "      <td>1493</td>\n",
       "      <td>Zack Weiss</td>\n",
       "      <td>weissza01</td>\n",
       "      <td>weisz001</td>\n",
       "    </tr>\n",
       "    <tr>\n",
       "      <td>1494</td>\n",
       "      <td>Zack Wheeler</td>\n",
       "      <td>wheelza01</td>\n",
       "      <td>wheez001</td>\n",
       "    </tr>\n",
       "  </tbody>\n",
       "</table>\n",
       "<p>1495 rows × 3 columns</p>\n",
       "</div>"
      ],
      "text/plain": [
       "               Name Baseball Reference ID RetroSheet ID\n",
       "0        A.J. Alexy             alexyaj01      alexa001\n",
       "1       A.J. Ladwig             ladwiaj01      ladwa001\n",
       "2       A.J. Minter             minteaj01      minta001\n",
       "3          A.J. Puk               pukaj01      puk-a001\n",
       "4        AJ Pollock             polloaj01      polla001\n",
       "...             ...                   ...           ...\n",
       "1490   Zack Littell             litteza01      littz001\n",
       "1491     Zack Short             shortza01      shorz001\n",
       "1492  Zack Thompson             thompza02      thomz002\n",
       "1493     Zack Weiss             weissza01      weisz001\n",
       "1494   Zack Wheeler             wheelza01      wheez001\n",
       "\n",
       "[1495 rows x 3 columns]"
      ]
     },
     "execution_count": 76,
     "metadata": {},
     "output_type": "execute_result"
    }
   ],
   "source": [
    "# Sort the table by name and reset the index values\n",
    "finalresult_dataframe = finalresult_dataframe.sort_values('Name').reset_index(drop = True)\n",
    "finalresult_dataframe"
   ]
  },
  {
   "cell_type": "code",
   "execution_count": 77,
   "metadata": {},
   "outputs": [],
   "source": [
    "# Export this table to a .csv file\n",
    "finalresult_dataframe.to_csv('2022_MLBUniqueIdentiferEquivalencies_BaseballReferenceRetroSheet.csv', \n",
    "                             index = False)"
   ]
  }
 ],
 "metadata": {
  "kernelspec": {
   "display_name": "Python 3",
   "language": "python",
   "name": "python3"
  },
  "language_info": {
   "codemirror_mode": {
    "name": "ipython",
    "version": 3
   },
   "file_extension": ".py",
   "mimetype": "text/x-python",
   "name": "python",
   "nbconvert_exporter": "python",
   "pygments_lexer": "ipython3",
   "version": "3.7.4"
  }
 },
 "nbformat": 4,
 "nbformat_minor": 2
}
